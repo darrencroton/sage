{
 "cells": [
  {
   "cell_type": "code",
   "metadata": {},
   "source": [
    "%pylab inline"
   ],
   "outputs": [
    {
     "output_type": "stream",
     "name": "stdout",
     "text": [
      "Populating the interactive namespace from numpy and matplotlib\n"
     ]
    }
   ],
   "execution_count": 1
  },
  {
   "cell_type": "code",
   "metadata": {},
   "source": [
    "import urllib\n",
    "import os\n",
    "import time"
   ],
   "outputs": [],
   "execution_count": 2
  },
  {
   "cell_type": "code",
   "metadata": {},
   "source": [
    "datadir = 'sage_output/' # Change me to whatever you like\n",
    "# Retrieve output of SAGE from Mini Millennium with fiducial parameters if directory is empty\n",
    "# Run this for an empty directory first to get the necessary plotting scripts and test the notebook!\n",
    "if not os.path.isfile(datadir+'model_z0.000_0'):\n",
    "\turllib.urlretrieve('https://bitbucket.org/arhstevens/sage-mm-output/get/5a222f5b1053.zip', 'sage_mm.zip')\n",
    "\tos.system('unzip -j sage_mm.zip -d '+datadir)\n",
    "\tos.system('rm sage_mm.zip')\n",
    "if os.path.isfile(datadir+'plot_read_routines.py'):\n",
    "    os.system('cp '+datadir+'plot_read_routines.py .')"
   ],
   "outputs": [],
   "execution_count": 3
  },
  {
   "cell_type": "code",
   "metadata": {},
   "source": [
    "# Import routines for reading and plotting\n",
    "import plot_read_routines as pr"
   ],
   "outputs": [],
   "execution_count": 4
  },
  {
   "cell_type": "code",
   "metadata": {},
   "source": [
    "# Read SAGE data\n",
    "M = pr.read_sagesnap(datadir+'model_z0.000')"
   ],
   "outputs": [],
   "execution_count": 5
  },
  {
   "cell_type": "code",
   "metadata": {},
   "source": [
    "# Plot settings\n",
    "fsize = 28\n",
    "matplotlib.rcParams.update({'font.size': fsize, 'xtick.major.size': 10, 'ytick.major.size': 10, 'xtick.major.width': 1, 'ytick.major.width': 1, 'ytick.minor.size': 5, 'xtick.minor.size': 5, 'axes.linewidth': 1, 'text.usetex': True, 'font.family': 'serif', 'font.serif': 'Times New Roman', 'figure.figsize': (9.0, 9.0*2/3), 'legend.numpoints': 1})"
   ],
   "outputs": [],
   "execution_count": 6
  },
  {
   "cell_type": "code",
   "metadata": {},
   "source": [
    "h = 0.73 # Choose value (default is for the Millennium simulation)\n",
    "Lbox = 62.5/h # Box length (default is for the Millennium simulation)"
   ],
   "outputs": [],
   "execution_count": 7
  },
  {
   "cell_type": "code",
   "metadata": {},
   "source": [
    "# Plot stellar mass function\n",
    "plt.figure()\n",
    "pr.massfunction_obsdata(h)\n",
    "pr.massfunction(M.StellarMass*1e10/h, Lbox, Nbins=30)\n",
    "plt.yscale('log', nonposy='clip')\n",
    "plt.axis([8.5, 11.9, 1e-6, 0.2])\n",
    "plt.xlabel(r'$\\log_{10}(m_*\\ [\\mathrm{M}_{\\odot}])$')\n",
    "plt.ylabel(r'$\\Phi\\ [\\mathrm{Mpc}^{-3}\\ \\mathrm{dex}^{-1}]$')\n",
    "plt.legend(fontsize=fsize-6, loc='best', frameon=False)"
   ],
   "outputs": [
    {
     "output_type": "stream",
     "name": "stdout",
     "text": [
      "<matplotlib.legend.Legend at 0x10d35a410>"
     ]
    },
    {
     "output_type": "stream",
     "name": "stdout",
     "text": [
      "<matplotlib.figure.Figure at 0x10beda090>"
     ]
    }
   ],
   "execution_count": 8
  },
  {
   "cell_type": "code",
   "metadata": {},
   "source": [
    "# Plot baryonic Tully-Fisher relation\n",
    "M_filt = (M.Type==0) * (M.StellarMass+M.ColdGas > 0) * (M.BulgeMass > 0.1*M.StellarMass) * (M.BulgeMass < 0.5*M.StellarMass)\n",
    "V_rot, M_bary = M.Vmax[M_filt], (M.StellarMass[M_filt]+M.ColdGas[M_filt])*1e10/h\n",
    "plt.figure()\n",
    "pr.btf_obsdata(h)\n",
    "pr.contour(np.log10(V_rot), np.log10(M_bary), Nbins=50, Nlevels=5)\n",
    "plt.axis([1.4, 3.1, 7.1, 11.4])\n",
    "plt.xlabel(r'$\\log_{10} (V_{\\rm max}\\ [\\mathrm{km\\ s}^{-1}])$')\n",
    "plt.ylabel(r'$\\log_{10} (m_*+m_{\\rm cold}\\ [\\mathrm{M}_{\\bigodot}])$')\n",
    "plt.plot([-1,-1], [-1,-2], 'k-', lw=2, label=r'\\textsc{sage}') # Just for legend\n",
    "plt.legend(fontsize=fsize-6, loc='lower right', frameon=False)"
   ],
   "outputs": [
    {
     "output_type": "stream",
     "name": "stdout",
     "text": [
      "<matplotlib.legend.Legend at 0x10c493bd0>"
     ]
    },
    {
     "output_type": "stream",
     "name": "stdout",
     "text": [
      "<matplotlib.figure.Figure at 0x10c2ccc90>"
     ]
    }
   ],
   "execution_count": 9
  },
  {
   "cell_type": "code",
   "metadata": {},
   "source": [
    "# Plot black hole -- bulge mass relation\n",
    "M_filt = (M.BlackHoleMass/h > 1e-5) * (M.BulgeMass/h > 10**-1.5)\n",
    "M_BH, M_bulge = M.BlackHoleMass[M_filt]*1e10/h, M.BulgeMass[M_filt]*1e10/h\n",
    "plt.figure()\n",
    "pr.bhbulge_obsdata(h)\n",
    "pr.contour(np.log10(M_bulge), np.log10(M_BH), Nbins=50, Nlevels=5)\n",
    "plt.axis([8.5, 12.1, 5.1, 9.4])\n",
    "plt.xlabel(r'$\\log_{10} (m_{\\rm *,bulge}\\ [\\mathrm{M}_{\\bigodot}])$')\n",
    "plt.ylabel(r'$\\log_{10} (m_{\\rm BH}\\ [\\mathrm{M}_{\\bigodot}])$')\n",
    "plt.plot([-1,-1], [-1,-2], 'k-', lw=2, label=r'\\textsc{sage}') # Just for legend\n",
    "plt.legend(fontsize=fsize-6, loc='best', frameon=False, numpoints=1)"
   ],
   "outputs": [
    {
     "output_type": "stream",
     "name": "stdout",
     "text": [
      "<matplotlib.legend.Legend at 0x10d04f190>"
     ]
    },
    {
     "output_type": "stream",
     "name": "stdout",
     "text": [
      "<matplotlib.figure.Figure at 0x10beb2e10>"
     ]
    }
   ],
   "execution_count": 10
  },
  {
   "cell_type": "code",
   "metadata": {},
   "source": [
    "# Plot the stellar mass -- gas metallicity relationship\n",
    "M_filt = (M.Type==0) * (M.ColdGas > 0) * (M.MetalsColdGas > 0) * (M.StellarMass > 0.01)\n",
    "M_star, OonH = M.StellarMass[M_filt]*1e10/h, M.MetalsColdGas[M_filt]/M.ColdGas[M_filt]/0.02\n",
    "plt.figure()\n",
    "pr.massmet_obsdata(h)\n",
    "#pr.contour(np.log10(M_star), np.log10(OonH)+9, range=[[8,11],[7.5,10.5]], Nbins=50, Nlevels=5)\n",
    "m_plot, met_high, met_med, met_low = pr.percentiles(np.log10(M_star), np.log10(OonH)+9, xrange=[8,12])\n",
    "plt.errorbar(m_plot, met_med, yerr=[met_high-met_med, met_med-met_low], color='k', lw=2, ms=0, ls='none', capsize=0)\n",
    "plt.xlabel(r'$\\log_{10}(m_*}\\ [\\mathrm{M}_{\\bigodot}])$')\n",
    "plt.ylabel(r'$12 + \\log_{10}(\\mathrm{O} / \\mathrm{H})$')\n",
    "plt.plot([-1,-1], [-1,-2], 'k|', ms=20, mew=2, label=r'\\textsc{sage}') # Just for legend\n",
    "plt.axis([8.1, 11.9, 8, 9.5])\n",
    "plt.legend(fontsize=fsize-6, loc='lower right', frameon=False)"
   ],
   "outputs": [
    {
     "output_type": "stream",
     "name": "stdout",
     "text": [
      "<matplotlib.legend.Legend at 0x10da54210>"
     ]
    },
    {
     "output_type": "stream",
     "name": "stdout",
     "text": [
      "<matplotlib.figure.Figure at 0x10d0b0210>"
     ]
    }
   ],
   "execution_count": 11
  },
  {
   "cell_type": "code",
   "metadata": {},
   "source": [
    "# Plot the quiescent fraction of galaxies\n",
    "plt.figure()\n",
    "pr.quiescent_obs(h)\n",
    "pr.quiescent(M.StellarMass*1e10/h, (M.SfrBulge+M.SfrDisk), h=h, Nbins=15)\n",
    "plt.axis([9.05, 11.4, 0, 1])\n",
    "plt.xlabel(r'$\\log_{10}(m_*\\ [\\mathrm{M}_{\\bigodot}])$')\n",
    "plt.ylabel(r'Quiescent fraction')\n",
    "plt.legend(fontsize=fsize-6, loc='lower right', frameon=False)"
   ],
   "outputs": [
    {
     "output_type": "stream",
     "name": "stdout",
     "text": [
      "<matplotlib.legend.Legend at 0x10db19fd0>"
     ]
    },
    {
     "output_type": "stream",
     "name": "stdout",
     "text": [
      "<matplotlib.figure.Figure at 0x10c2d7a50>"
     ]
    }
   ],
   "execution_count": 12
  },
  {
   "cell_type": "code",
   "metadata": {},
   "source": [],
   "outputs": []
  }
 ],
 "metadata": {
  "name": "",
  "signature": "sha256:cf43f44a2a1aa32e0f397a7f3d07df1231dec3404ddcc2161ca0e5da5f382213"
 },
 "nbformat": 4,
 "nbformat_minor": 5
}